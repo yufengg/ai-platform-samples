{
  "nbformat": 4,
  "nbformat_minor": 0,
  "metadata": {
    "colab": {
      "name": "ai_platform_optimizer_multi_objective.ipynb",
      "provenance": [],
      "collapsed_sections": []
    },
    "kernelspec": {
      "display_name": "Python 3",
      "language": "python",
      "name": "python3"
    },
    "language_info": {
      "codemirror_mode": {
        "name": "ipython",
        "version": 3
      },
      "file_extension": ".py",
      "mimetype": "text/x-python",
      "name": "python",
      "nbconvert_exporter": "python",
      "pygments_lexer": "ipython3",
      "version": "3.7.6"
    }
  },
  "cells": [
    {
      "cell_type": "code",
      "metadata": {
        "colab_type": "code",
        "id": "7fPc-KWUi2Xd",
        "colab": {}
      },
      "source": [
        "# Copyright 2020 Google LLC\n",
        "#\n",
        "# Licensed under the Apache License, Version 2.0 (the \"License\");\n",
        "# you may not use this file except in compliance with the License.\n",
        "# You may obtain a copy of the License at\n",
        "#\n",
        "#     https://www.apache.org/licenses/LICENSE-2.0\n",
        "#\n",
        "# Unless required by applicable law or agreed to in writing, software\n",
        "# distributed under the License is distributed on an \"AS IS\" BASIS,\n",
        "# WITHOUT WARRANTIES OR CONDITIONS OF ANY KIND, either express or implied.\n",
        "# See the License for the specific language governing permissions and\n",
        "# limitations under the License."
      ],
      "execution_count": 0,
      "outputs": []
    },
    {
      "cell_type": "markdown",
      "metadata": {
        "colab_type": "text",
        "id": "SL_AnuSKi2Xj"
      },
      "source": [
        "<table align=\"left\">\n",
        "    <td>\n",
        "        <a href=\"https://colab.research.google.com/github/GoogleCloudPlatform/ai-platform-samples/blob/master/notebooks/samples/optimizer/ai_platform_optimizer_multi_objective.ipynb\">\n",
        "            <img src=\"https://cloud.google.com/ml-engine/images/colab-logo-32px.png\" alt=\"Colab logo\"> Run in Colab\n",
        "        </a>\n",
        "    </td>\n",
        "    <td>\n",
        "        <a href=\"https://github.com/GoogleCloudPlatform/ai-platform-samples/blob/master/notebooks/samples/optimizer/ai_platform_optimizer_multi_objective.ipynb\">\n",
        "            <img src=\"https://cloud.google.com/ml-engine/images/github-logo-32px.png\" alt=\"GitHub logo\">View on GitHub\n",
        "        </a>\n",
        "     </td>\n",
        "</table>\n"
      ]
    },
    {
      "cell_type": "markdown",
      "metadata": {
        "colab_type": "text",
        "id": "AksIKBzZ-nre"
      },
      "source": [
        "# Optimizing multiple objectives\n",
        "\n",
        "This tutorial demonstrates AI Platform Optimizer multi-objective optimization.\n",
        "\n",
        "### Objective\n",
        "\n",
        "The goal is to __`minimize`__ the objective metric:\n",
        "   ```\n",
        "   y1 = r*sin(theta)\n",
        "   ```\n",
        "\n",
        "and simultaneously __`maximize`__ the objective metric:\n",
        "   ```\n",
        "   y2 = r*cos(theta)\n",
        "   ```\n",
        "\n",
        "that you will evaluate over the parameter space:\n",
        "\n",
        "   - __`r`__ in [0,1],\n",
        "\n",
        "   - __`theta`__ in [0, pi/2]\n",
        "\n",
        "### Costs\n",
        "\n",
        "This tutorial uses billable components of Google Cloud:\n",
        "\n",
        "* AI Platform Training\n",
        "* Cloud Storage\n",
        "\n",
        "Learn about [AI Platform Training\n",
        "pricing](https://cloud.google.com/ai-platform/training/pricing) and [Cloud Storage\n",
        "pricing](https://cloud.google.com/storage/pricing), and use the [Pricing\n",
        "Calculator](https://cloud.google.com/products/calculator/)\n",
        "to generate a cost estimate based on your projected usage.\n",
        "\n"
      ]
    },
    {
      "cell_type": "markdown",
      "metadata": {
        "colab_type": "text",
        "id": "D3LI2DGWi2Xl"
      },
      "source": [
        "### PIP install packages and dependencies\n",
        "\n",
        "Install additional dependencies not installed in the notebook environment.\n",
        "\n",
        "- Use the latest major GA version of the framework."
      ]
    },
    {
      "cell_type": "code",
      "metadata": {
        "colab_type": "code",
        "id": "2DOjox58i2Xm",
        "colab": {}
      },
      "source": [
        "! pip install -U google-cloud\n",
        "! pip install -U google-cloud-storage\n",
        "! pip install -U requests\n",
        "\n",
        "# Restart the kernel after pip installs\n",
        "import IPython\n",
        "app = IPython.Application.instance()\n",
        "app.kernel.do_shutdown(True)  "
      ],
      "execution_count": 0,
      "outputs": []
    },
    {
      "cell_type": "markdown",
      "metadata": {
        "colab_type": "text",
        "id": "Xc9LnICki2Xp"
      },
      "source": [
        "### Set up your Google Cloud project\n",
        "\n",
        "**The following steps are required, regardless of your notebook environment.**\n",
        "\n",
        "1. [Select or create a Google Cloud project.](https://console.cloud.google.com/cloud-resource-manager)\n",
        "\n",
        "2. [Make sure that billing is enabled for your project.](https://cloud.google.com/billing/docs/how-to/modify-project)\n",
        "\n",
        "3. [Enable the AI Platform APIs](https://console.cloud.google.com/flows/enableapi?apiid=ml.googleapis.com)\n",
        "\n",
        "4. If running locally on your own machine, you will need to install the [Google Cloud SDK](https://cloud.google.com/sdk).\n",
        "\n",
        "5. Enter your project ID in the cell below. Then run the  cell to make sure the\n",
        "Cloud SDK uses the right project for all the commands in this notebook.\n",
        "\n",
        "**Note**: Jupyter runs lines prefixed with `!` as shell commands, and it interpolates Python variables prefixed with `$` into these commands."
      ]
    },
    {
      "cell_type": "code",
      "metadata": {
        "colab_type": "code",
        "id": "LUmew_Khi2Xr",
        "colab": {}
      },
      "source": [
        "PROJECT_ID = \"[project-id]\" #@param {type:\"string\"}\n",
        "! gcloud config set project $PROJECT_ID"
      ],
      "execution_count": 0,
      "outputs": []
    },
    {
      "cell_type": "markdown",
      "metadata": {
        "colab_type": "text",
        "id": "h0SMyUsC-mzi"
      },
      "source": [
        "### Authenticate your Google Cloud account\n",
        "\n",
        "**If you are using [AI Platform Notebooks](https://cloud.google.com/ai-platform/notebooks/docs/)**, your environment is already\n",
        "authenticated. Skip these steps."
      ]
    },
    {
      "cell_type": "code",
      "metadata": {
        "colab_type": "code",
        "id": "iTQY9g4mRo6r",
        "colab": {}
      },
      "source": [
        "import sys\n",
        "\n",
        "# If you are running this notebook in Colab, run this cell and follow the\n",
        "# instructions to authenticate your Google Cloud account. This provides access\n",
        "# to your Cloud Storage bucket and lets you submit training jobs and prediction\n",
        "# requests.\n",
        "\n",
        "if 'google.colab' in sys.modules:\n",
        "    from google.colab import auth as google_auth\n",
        "    google_auth.authenticate_user()\n",
        "\n",
        "# If you are running this tutorial in a notebook locally, replace the string\n",
        "# below with the path to your service account key and run this cell to\n",
        "# authenticate your Google Cloud account.\n",
        "else:\n",
        "    %env GOOGLE_APPLICATION_CREDENTIALS your_path_to_credentials.json\n",
        "\n",
        "# Log in to your account on Google Cloud\n",
        "!gcloud auth login"
      ],
      "execution_count": 0,
      "outputs": []
    },
    {
      "cell_type": "markdown",
      "metadata": {
        "colab_type": "text",
        "id": "Dax2zrpTi2Xy"
      },
      "source": [
        "### Import libraries"
      ]
    },
    {
      "cell_type": "code",
      "metadata": {
        "colab_type": "code",
        "id": "xD60d6Q0i2X0",
        "colab": {}
      },
      "source": [
        "import json\n",
        "import time\n",
        "import datetime\n",
        "from googleapiclient import errors"
      ],
      "execution_count": 0,
      "outputs": []
    },
    {
      "cell_type": "markdown",
      "metadata": {
        "colab_type": "text",
        "id": "CWuu4wmki2X3"
      },
      "source": [
        "## Tutorial\n",
        "\n"
      ]
    },
    {
      "cell_type": "markdown",
      "metadata": {
        "colab_type": "text",
        "id": "KyEjqIdnad0w"
      },
      "source": [
        "### Setup\n",
        "This section defines some parameters and util methods to call AI Platform Optimizer APIs. Please fill in the following information to get started."
      ]
    },
    {
      "cell_type": "code",
      "metadata": {
        "colab_type": "code",
        "id": "8HCgeF8had77",
        "colab": {}
      },
      "source": [
        "# Update to your username\n",
        "USER = '[user-id]' #@param {type: 'string'}\n",
        "\n",
        "# These will be automatically filled in.\n",
        "STUDY_ID = '{}_study_{}'.format(USER, datetime.datetime.now().strftime('%Y%m%d_%H%M%S')) #@param {type: 'string'}\n",
        "REGION = 'us-central1'"
      ],
      "execution_count": 0,
      "outputs": []
    },
    {
      "cell_type": "code",
      "metadata": {
        "colab_type": "code",
        "id": "1SNp8jXhfUAe",
        "colab": {}
      },
      "source": [
        "def study_parent():\n",
        "  return 'projects/{}/locations/{}'.format(PROJECT_ID, REGION)\n",
        "\n",
        "\n",
        "def study_name(study_id):\n",
        "  return 'projects/{}/locations/{}/studies/{}'.format(PROJECT_ID, REGION, study_id)\n",
        "\n",
        "\n",
        "def trial_parent(study_id):\n",
        "  return study_name(study_id)\n",
        "\n",
        "\n",
        "def trial_name(study_id, trial_id):\n",
        "  return 'projects/{}/locations/{}/studies/{}/trials/{}'.format(PROJECT_ID, REGION, \n",
        "                                                                study_id, trial_id)\n",
        "\n",
        "def operation_name(operation_id):\n",
        "  return 'projects/{}/locations/{}/operations/{}'.format(PROJECT_ID, REGION, operation_id)\n",
        "\n",
        "\n",
        "print('USER: {}'.format(USER))\n",
        "print('PROJECT_ID: {}'.format(PROJECT_ID))\n",
        "print('REGION: {}'.format(REGION))\n",
        "print('STUDY_ID: {}'.format(STUDY_ID))\n"
      ],
      "execution_count": 0,
      "outputs": []
    },
    {
      "cell_type": "markdown",
      "metadata": {
        "colab_type": "text",
        "id": "cs_cawOD_FA2"
      },
      "source": [
        "### Build the API client\n",
        "\n",
        "The following cell builds the auto-generated API client using [Google API discovery service](https://developers.google.com/discovery). The JSON format API schema is hosted in a Cloud Storage bucket."
      ]
    },
    {
      "cell_type": "code",
      "metadata": {
        "colab_type": "code",
        "id": "f9gZ0E12-8S9",
        "colab": {}
      },
      "source": [
        "from google.cloud import storage\n",
        "from googleapiclient import discovery\n",
        "\n",
        "\n",
        "_OPTIMIZER_API_DOCUMENT_BUCKET = 'caip-optimizer-public'\n",
        "_OPTIMIZER_API_DOCUMENT_FILE = 'api/ml_public_google_rest_v1.json'\n",
        "\n",
        "\n",
        "def read_api_document():\n",
        "  client = storage.Client(PROJECT_ID)\n",
        "  bucket = client.get_bucket(_OPTIMIZER_API_DOCUMENT_BUCKET)\n",
        "  blob = bucket.get_blob(_OPTIMIZER_API_DOCUMENT_FILE)\n",
        "  return blob.download_as_string()\n",
        "\n",
        "\n",
        "ml = discovery.build_from_document(service=read_api_document())\n",
        "print('Successfully built the client.')"
      ],
      "execution_count": 0,
      "outputs": []
    },
    {
      "cell_type": "markdown",
      "metadata": {
        "colab_type": "text",
        "id": "8NBduXsEaRKr"
      },
      "source": [
        "### Create the study configuration\n",
        "\n",
        "The following is a sample study configuration, built as a hierarchical python dictionary. It is already filled out. Run the cell to configure the study."
      ]
    },
    {
      "cell_type": "code",
      "metadata": {
        "colab_type": "code",
        "id": "s-AHfPOASXXW",
        "colab": {}
      },
      "source": [
        "# Parameter Configuration\n",
        "param_r = {\n",
        "    'parameter': 'r',\n",
        "    'type' : 'DOUBLE',\n",
        "    'double_value_spec' : {\n",
        "        'min_value' : 0,\n",
        "        'max_value' : 1\n",
        "    }\n",
        "}\n",
        "\n",
        "param_theta = {\n",
        "    'parameter': 'theta',\n",
        "    'type' : 'DOUBLE',\n",
        "    'double_value_spec' : {\n",
        "        'min_value' : 0,\n",
        "        'max_value' : 1.57\n",
        "    }\n",
        "}\n",
        "\n",
        "# Objective Metrics\n",
        "metric_y1 = {\n",
        "    'metric' : 'y1',\n",
        "    'goal' : 'MINIMIZE'\n",
        "}\n",
        "\n",
        "metric_y2 = {\n",
        "    'metric' : 'y2',\n",
        "    'goal' : 'MAXIMIZE'\n",
        "}\n",
        "\n",
        "# Put it all together in a study configuration\n",
        "study_config = {\n",
        "    'algorithm' : 'ALGORITHM_UNSPECIFIED',  # Let the service choose the `default` algorithm.\n",
        "    'parameters' : [param_r, param_theta,], \n",
        "    'metrics' : [metric_y1, metric_y2,],\n",
        "}\n",
        "\n",
        "study = {'study_config': study_config}\n",
        "print(json.dumps(study, indent=2, sort_keys=True))"
      ],
      "execution_count": 0,
      "outputs": []
    },
    {
      "cell_type": "markdown",
      "metadata": {
        "colab_type": "text",
        "id": "uyXG_RKha7Kb"
      },
      "source": [
        "### Create the study\n",
        "\n",
        "Next, create the study, which you will subsequently run to optimize the two objectives."
      ]
    },
    {
      "cell_type": "code",
      "metadata": {
        "colab_type": "code",
        "id": "jgskzqZX0Mkt",
        "colab": {}
      },
      "source": [
        "# Creates a study\n",
        "req = ml.projects().locations().studies().create(\n",
        "    parent=study_parent(), studyId=STUDY_ID, body=study)\n",
        "try :\n",
        "  print(req.execute())\n",
        "except errors.HttpError as e: \n",
        "  if e.resp.status == 409:\n",
        "    print('Study already existed.')\n",
        "  else:\n",
        "    raise e"
      ],
      "execution_count": 0,
      "outputs": []
    },
    {
      "cell_type": "markdown",
      "metadata": {
        "colab_type": "text",
        "id": "dKOMBKmtkcJb"
      },
      "source": [
        "### Metric evaluation functions\n",
        "\n",
        "Next, define some functions to evaluate the two objective metrics."
      ]
    },
    {
      "cell_type": "code",
      "metadata": {
        "colab_type": "code",
        "id": "Xnl1uqnyz3Qp",
        "colab": {}
      },
      "source": [
        "import math\n",
        "\n",
        "\n",
        "# r * sin(theta)\n",
        "def Metric1Evaluation(r, theta):\n",
        "  \"\"\"Evaluate the first metric on the trial.\"\"\"\n",
        "  return r * math.sin(theta)\n",
        "\n",
        "\n",
        "# r * cose(theta)\n",
        "def Metric2Evaluation(r, theta):\n",
        "  \"\"\"Evaluate the second metric on the trial.\"\"\"\n",
        "  return r * math.cos(theta)\n",
        "\n",
        "\n",
        "def CreateMeasurement(trial_id, r, theta):\n",
        "  print((\"=========== Start Trial: [{0}] =============\").format(trial_id))\n",
        "  \n",
        "  # Evaluate both objective metrics for this trial\n",
        "  y1 = Metric1Evaluation(r, theta)\n",
        "  y2 = Metric2Evaluation(r, theta)\n",
        "  print('[r = {0}, theta = {1}] => y1 = r*sin(theta) = {2}, y2 = r*cos(theta) = {3}'.format(r, theta, y1, y2))\n",
        "  metric1 = {'metric': 'y1', 'value': y1}\n",
        "  metric2 = {'metric': 'y2', 'value': y2}\n",
        "    \n",
        "  # Return the results for this trial\n",
        "  measurement = {'step_count': 1, 'metrics': [metric1, metric2,]}\n",
        "  return measurement\n"
      ],
      "execution_count": 0,
      "outputs": []
    },
    {
      "cell_type": "markdown",
      "metadata": {
        "colab_type": "text",
        "id": "Qzn5lVpRq05U"
      },
      "source": [
        "### Set configuration parameters for running trials\n",
        "\n",
        "__`client_id`__ - The identifier of the client that is requesting the suggestion. If multiple SuggestTrialsRequests have the same `client_id`, the service will return the identical suggested trial if the trial is `PENDING`, and provide a new trial if the last suggested trial was completed.\n",
        "\n",
        "__`suggestion_count_per_request`__ - The number of suggestions (trials) requested in a single request.\n",
        "\n",
        "__`max_trial_id_to_stop`__ - The number of trials to explore before stopping. It is set to 4 to shorten the time to run the code, so don't expect convergence. For convergence, it would likely need to be about 20 (a good rule of thumb is to multiply the total dimensionality by 10).\n",
        "\n"
      ]
    },
    {
      "cell_type": "code",
      "metadata": {
        "colab_type": "code",
        "id": "5usXaZA5qvUZ",
        "colab": {}
      },
      "source": [
        "client_id = 'client1' #@param {type: 'string'}\n",
        "suggestion_count_per_request =  5 #@param {type: 'integer'}\n",
        "max_trial_id_to_stop =  50 #@param {type: 'integer'}\n",
        "\n",
        "print('client_id: {}'.format(client_id))\n",
        "print('suggestion_count_per_request: {}'.format(suggestion_count_per_request))\n",
        "print('max_trial_id_to_stop: {}'.format(max_trial_id_to_stop))"
      ],
      "execution_count": 0,
      "outputs": []
    },
    {
      "cell_type": "markdown",
      "metadata": {
        "colab_type": "text",
        "id": "UnV2SJNskm7V"
      },
      "source": [
        "### Run AI Platform Optimizer trials\n",
        "\n",
        "Run the trials."
      ]
    },
    {
      "cell_type": "code",
      "metadata": {
        "colab_type": "code",
        "id": "opmuTntW4-eS",
        "colab": {}
      },
      "source": [
        "trial_id = 0\n",
        "while trial_id < max_trial_id_to_stop:\n",
        "  # Requests trials.\n",
        "  resp = ml.projects().locations().studies().trials().suggest(\n",
        "    parent=trial_parent(STUDY_ID), \n",
        "    body={'client_id': client_id, 'suggestion_count': suggestion_count_per_request}).execute()\n",
        "  op_id = resp['name'].split('/')[-1]\n",
        "\n",
        "  # Polls the suggestion long-running operations.\n",
        "  get_op = ml.projects().locations().operations().get(name=operation_name(op_id))\n",
        "  while True:\n",
        "      operation = get_op.execute()\n",
        "      if 'done' in operation and operation['done']:\n",
        "        break\n",
        "      time.sleep(1)\n",
        "\n",
        "  for suggested_trial in get_op.execute()['response']['trials']:\n",
        "    trial_id = int(suggested_trial['name'].split('/')[-1])\n",
        "    # Featches the suggested trials.\n",
        "    trial = ml.projects().locations().studies().trials().get(name=trial_name(STUDY_ID, trial_id)).execute()\n",
        "    if trial['state'] in ['COMPLETED', 'INFEASIBLE']:\n",
        "      continue\n",
        "    \n",
        "    # Parses the suggested parameters.\n",
        "    params = {}\n",
        "    for param in trial['parameters']:\n",
        "      if param['parameter'] == 'r':\n",
        "        r = param['floatValue']\n",
        "      elif param['parameter'] == 'theta':\n",
        "        theta = param['floatValue']\n",
        "\n",
        "    # Evaluates trials and reports measurement.\n",
        "    ml.projects().locations().studies().trials().addMeasurement(\n",
        "        name=trial_name(STUDY_ID, trial_id), \n",
        "        body={'measurement': CreateMeasurement(trial_id, r, theta)}).execute()\n",
        "    # Completes the trial.\n",
        "    ml.projects().locations().studies().trials().complete(\n",
        "        name=trial_name(STUDY_ID, trial_id)).execute()"
      ],
      "execution_count": 0,
      "outputs": []
    },
    {
      "cell_type": "markdown",
      "metadata": {
        "colab_type": "text",
        "id": "i5ZTqgqBiRsq"
      },
      "source": [
        "### [EXPERIMENTAL] Visualize the result\n",
        "\n",
        "This section provides a module to visualize the trials for the above study. \n"
      ]
    },
    {
      "cell_type": "code",
      "metadata": {
        "colab_type": "code",
        "id": "Or2PL1YxTr33",
        "colab": {}
      },
      "source": [
        "max_trials_to_annotate = 20\n",
        "\n",
        "import matplotlib.pyplot as plt\n",
        "trial_ids = []\n",
        "y1 = []\n",
        "y2 = []\n",
        "resp = ml.projects().locations().studies().trials().list(parent=trial_parent(STUDY_ID)).execute()\n",
        "for trial in resp['trials']:\n",
        "  if 'finalMeasurement' in trial:\n",
        "    trial_ids.append(int(trial['name'].split('/')[-1]))\n",
        "    metrics = trial['finalMeasurement']['metrics']\n",
        "    try:\n",
        "        y1.append([m for m in metrics if m['metric'] == \"y1\"][0]['value'])\n",
        "        y2.append([m for m in metrics if m['metric'] == \"y2\"][0]['value'])\n",
        "    except:\n",
        "        pass\n",
        "\n",
        "fig, ax = plt.subplots()\n",
        "ax.scatter(y1, y2)\n",
        "plt.xlabel(\"y1=r*sin(theta)\")\n",
        "plt.ylabel(\"y2=r*cos(theta)\");\n",
        "for i, trial_id in enumerate(trial_ids):\n",
        "  # Only annotates the last `max_trials_to_annotate` trials\n",
        "  if i > len(trial_ids) - max_trials_to_annotate: \n",
        "    try:\n",
        "        ax.annotate(trial_id, (y1[i], y2[i]))\n",
        "    except:\n",
        "        pass\n",
        "plt.gcf().set_size_inches((16, 16))    "
      ],
      "execution_count": 0,
      "outputs": []
    },
    {
      "cell_type": "markdown",
      "metadata": {
        "colab_type": "text",
        "id": "KAxfq9Fri2YV"
      },
      "source": [
        "## Cleaning up\n",
        "\n",
        "To clean up all Google Cloud resources used in this project, you can [delete the Google Cloud\n",
        "project](https://cloud.google.com/resource-manager/docs/creating-managing-projects#shutting_down_projects) you used for the tutorial."
      ]
    }
  ]
}